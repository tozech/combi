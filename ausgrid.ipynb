{
 "cells": [
  {
   "cell_type": "code",
   "execution_count": 1,
   "metadata": {},
   "outputs": [
    {
     "name": "stderr",
     "output_type": "stream",
     "text": [
      "/home/tzech/Repo/pvlib-python/pvlib/forecast.py:19: UserWarning: The forecast module algorithms and features are highly experimental. The API may change, the functionality may be consolidated into an io module, or the module may be separated into its own package.\n",
      "  'The forecast module algorithms and features are highly experimental. '\n"
     ]
    }
   ],
   "source": [
    "import glob\n",
    "import os\n",
    "\n",
    "import pandas as pd\n",
    "\n",
    "import pgeocode\n",
    "\n",
    "from pvlib import forecast\n"
   ]
  },
  {
   "cell_type": "code",
   "execution_count": 2,
   "metadata": {},
   "outputs": [],
   "source": [
    "fname_pat = os.path.expanduser(\"~/data/pv/ausgrid/*.csv\")\n",
    "fnames = glob.glob(fname_pat)"
   ]
  },
  {
   "cell_type": "code",
   "execution_count": 3,
   "metadata": {},
   "outputs": [
    {
     "data": {
      "text/plain": [
       "['/home/tzech/data/pv/ausgrid/2012-2013 Solar home electricity data v2.csv']"
      ]
     },
     "execution_count": 3,
     "metadata": {},
     "output_type": "execute_result"
    }
   ],
   "source": [
    "fnames"
   ]
  },
  {
   "cell_type": "code",
   "execution_count": 5,
   "metadata": {},
   "outputs": [],
   "source": [
    "data = pd.read_csv(fnames[0], skiprows=1)"
   ]
  },
  {
   "cell_type": "code",
   "execution_count": 6,
   "metadata": {},
   "outputs": [
    {
     "data": {
      "text/html": [
       "<div>\n",
       "<style scoped>\n",
       "    .dataframe tbody tr th:only-of-type {\n",
       "        vertical-align: middle;\n",
       "    }\n",
       "\n",
       "    .dataframe tbody tr th {\n",
       "        vertical-align: top;\n",
       "    }\n",
       "\n",
       "    .dataframe thead th {\n",
       "        text-align: right;\n",
       "    }\n",
       "</style>\n",
       "<table border=\"1\" class=\"dataframe\">\n",
       "  <thead>\n",
       "    <tr style=\"text-align: right;\">\n",
       "      <th></th>\n",
       "      <th>Customer</th>\n",
       "      <th>Generator Capacity</th>\n",
       "      <th>Postcode</th>\n",
       "      <th>Consumption Category</th>\n",
       "      <th>date</th>\n",
       "      <th>0:30</th>\n",
       "      <th>1:00</th>\n",
       "      <th>1:30</th>\n",
       "      <th>2:00</th>\n",
       "      <th>2:30</th>\n",
       "      <th>...</th>\n",
       "      <th>20:00</th>\n",
       "      <th>20:30</th>\n",
       "      <th>21:00</th>\n",
       "      <th>21:30</th>\n",
       "      <th>22:00</th>\n",
       "      <th>22:30</th>\n",
       "      <th>23:00</th>\n",
       "      <th>23:30</th>\n",
       "      <th>0:00</th>\n",
       "      <th>Row Quality</th>\n",
       "    </tr>\n",
       "  </thead>\n",
       "  <tbody>\n",
       "    <tr>\n",
       "      <th>0</th>\n",
       "      <td>1</td>\n",
       "      <td>3.78</td>\n",
       "      <td>2076</td>\n",
       "      <td>CL</td>\n",
       "      <td>1/07/2012</td>\n",
       "      <td>1.250</td>\n",
       "      <td>1.250</td>\n",
       "      <td>1.250</td>\n",
       "      <td>1.263</td>\n",
       "      <td>0.131</td>\n",
       "      <td>...</td>\n",
       "      <td>0.000</td>\n",
       "      <td>0.000</td>\n",
       "      <td>0.000</td>\n",
       "      <td>0.000</td>\n",
       "      <td>0.000</td>\n",
       "      <td>0.000</td>\n",
       "      <td>0.000</td>\n",
       "      <td>0.000</td>\n",
       "      <td>1.081</td>\n",
       "      <td>NaN</td>\n",
       "    </tr>\n",
       "    <tr>\n",
       "      <th>1</th>\n",
       "      <td>1</td>\n",
       "      <td>3.78</td>\n",
       "      <td>2076</td>\n",
       "      <td>GC</td>\n",
       "      <td>1/07/2012</td>\n",
       "      <td>0.855</td>\n",
       "      <td>0.786</td>\n",
       "      <td>0.604</td>\n",
       "      <td>0.544</td>\n",
       "      <td>0.597</td>\n",
       "      <td>...</td>\n",
       "      <td>0.374</td>\n",
       "      <td>0.447</td>\n",
       "      <td>0.549</td>\n",
       "      <td>0.136</td>\n",
       "      <td>0.288</td>\n",
       "      <td>0.181</td>\n",
       "      <td>0.651</td>\n",
       "      <td>0.090</td>\n",
       "      <td>0.068</td>\n",
       "      <td>NaN</td>\n",
       "    </tr>\n",
       "    <tr>\n",
       "      <th>2</th>\n",
       "      <td>1</td>\n",
       "      <td>3.78</td>\n",
       "      <td>2076</td>\n",
       "      <td>GG</td>\n",
       "      <td>1/07/2012</td>\n",
       "      <td>0.000</td>\n",
       "      <td>0.000</td>\n",
       "      <td>0.000</td>\n",
       "      <td>0.000</td>\n",
       "      <td>0.000</td>\n",
       "      <td>...</td>\n",
       "      <td>0.000</td>\n",
       "      <td>0.000</td>\n",
       "      <td>0.000</td>\n",
       "      <td>0.000</td>\n",
       "      <td>0.000</td>\n",
       "      <td>0.000</td>\n",
       "      <td>0.000</td>\n",
       "      <td>0.000</td>\n",
       "      <td>0.000</td>\n",
       "      <td>NaN</td>\n",
       "    </tr>\n",
       "    <tr>\n",
       "      <th>3</th>\n",
       "      <td>1</td>\n",
       "      <td>3.78</td>\n",
       "      <td>2076</td>\n",
       "      <td>CL</td>\n",
       "      <td>2/07/2012</td>\n",
       "      <td>1.250</td>\n",
       "      <td>1.250</td>\n",
       "      <td>1.125</td>\n",
       "      <td>0.000</td>\n",
       "      <td>0.925</td>\n",
       "      <td>...</td>\n",
       "      <td>0.000</td>\n",
       "      <td>0.000</td>\n",
       "      <td>0.000</td>\n",
       "      <td>0.000</td>\n",
       "      <td>0.000</td>\n",
       "      <td>0.000</td>\n",
       "      <td>0.000</td>\n",
       "      <td>0.000</td>\n",
       "      <td>1.069</td>\n",
       "      <td>NaN</td>\n",
       "    </tr>\n",
       "    <tr>\n",
       "      <th>4</th>\n",
       "      <td>1</td>\n",
       "      <td>3.78</td>\n",
       "      <td>2076</td>\n",
       "      <td>GC</td>\n",
       "      <td>2/07/2012</td>\n",
       "      <td>0.309</td>\n",
       "      <td>0.082</td>\n",
       "      <td>0.059</td>\n",
       "      <td>0.097</td>\n",
       "      <td>0.290</td>\n",
       "      <td>...</td>\n",
       "      <td>0.353</td>\n",
       "      <td>0.464</td>\n",
       "      <td>0.229</td>\n",
       "      <td>0.811</td>\n",
       "      <td>0.222</td>\n",
       "      <td>0.306</td>\n",
       "      <td>1.034</td>\n",
       "      <td>0.136</td>\n",
       "      <td>0.067</td>\n",
       "      <td>NaN</td>\n",
       "    </tr>\n",
       "  </tbody>\n",
       "</table>\n",
       "<p>5 rows × 54 columns</p>\n",
       "</div>"
      ],
      "text/plain": [
       "   Customer  Generator Capacity  Postcode Consumption Category       date  \\\n",
       "0         1                3.78      2076                   CL  1/07/2012   \n",
       "1         1                3.78      2076                   GC  1/07/2012   \n",
       "2         1                3.78      2076                   GG  1/07/2012   \n",
       "3         1                3.78      2076                   CL  2/07/2012   \n",
       "4         1                3.78      2076                   GC  2/07/2012   \n",
       "\n",
       "    0:30   1:00   1:30   2:00   2:30  ...  20:00  20:30  21:00  21:30  22:00  \\\n",
       "0  1.250  1.250  1.250  1.263  0.131  ...  0.000  0.000  0.000  0.000  0.000   \n",
       "1  0.855  0.786  0.604  0.544  0.597  ...  0.374  0.447  0.549  0.136  0.288   \n",
       "2  0.000  0.000  0.000  0.000  0.000  ...  0.000  0.000  0.000  0.000  0.000   \n",
       "3  1.250  1.250  1.125  0.000  0.925  ...  0.000  0.000  0.000  0.000  0.000   \n",
       "4  0.309  0.082  0.059  0.097  0.290  ...  0.353  0.464  0.229  0.811  0.222   \n",
       "\n",
       "   22:30  23:00  23:30   0:00  Row Quality  \n",
       "0  0.000  0.000  0.000  1.081          NaN  \n",
       "1  0.181  0.651  0.090  0.068          NaN  \n",
       "2  0.000  0.000  0.000  0.000          NaN  \n",
       "3  0.000  0.000  0.000  1.069          NaN  \n",
       "4  0.306  1.034  0.136  0.067          NaN  \n",
       "\n",
       "[5 rows x 54 columns]"
      ]
     },
     "execution_count": 6,
     "metadata": {},
     "output_type": "execute_result"
    }
   ],
   "source": [
    "data.head()"
   ]
  },
  {
   "cell_type": "code",
   "execution_count": 7,
   "metadata": {},
   "outputs": [
    {
     "name": "stdout",
     "output_type": "stream",
     "text": [
      "<class 'pandas.core.frame.DataFrame'>\n",
      "RangeIndex: 268557 entries, 0 to 268556\n",
      "Data columns (total 54 columns):\n",
      "Customer                268557 non-null int64\n",
      "Generator Capacity      268557 non-null float64\n",
      "Postcode                268557 non-null int64\n",
      "Consumption Category    268557 non-null object\n",
      "date                    268557 non-null object\n",
      "0:30                    268557 non-null float64\n",
      "1:00                    268557 non-null float64\n",
      "1:30                    268557 non-null float64\n",
      "2:00                    268557 non-null float64\n",
      "2:30                    268557 non-null float64\n",
      "3:00                    268557 non-null float64\n",
      "3:30                    268557 non-null float64\n",
      "4:00                    268557 non-null float64\n",
      "4:30                    268557 non-null float64\n",
      "5:00                    268557 non-null float64\n",
      "5:30                    268557 non-null float64\n",
      "6:00                    268557 non-null float64\n",
      "6:30                    268557 non-null float64\n",
      "7:00                    268557 non-null float64\n",
      "7:30                    268557 non-null float64\n",
      "8:00                    268557 non-null float64\n",
      "8:30                    268557 non-null float64\n",
      "9:00                    268557 non-null float64\n",
      "9:30                    268557 non-null float64\n",
      "10:00                   268557 non-null float64\n",
      "10:30                   268557 non-null float64\n",
      "11:00                   268557 non-null float64\n",
      "11:30                   268557 non-null float64\n",
      "12:00                   268557 non-null float64\n",
      "12:30                   268557 non-null float64\n",
      "13:00                   268557 non-null float64\n",
      "13:30                   268557 non-null float64\n",
      "14:00                   268557 non-null float64\n",
      "14:30                   268557 non-null float64\n",
      "15:00                   268557 non-null float64\n",
      "15:30                   268557 non-null float64\n",
      "16:00                   268557 non-null float64\n",
      "16:30                   268557 non-null float64\n",
      "17:00                   268557 non-null float64\n",
      "17:30                   268557 non-null float64\n",
      "18:00                   268557 non-null float64\n",
      "18:30                   268557 non-null float64\n",
      "19:00                   268557 non-null float64\n",
      "19:30                   268557 non-null float64\n",
      "20:00                   268557 non-null float64\n",
      "20:30                   268557 non-null float64\n",
      "21:00                   268557 non-null float64\n",
      "21:30                   268557 non-null float64\n",
      "22:00                   268557 non-null float64\n",
      "22:30                   268557 non-null float64\n",
      "23:00                   268557 non-null float64\n",
      "23:30                   268557 non-null float64\n",
      "0:00                    268557 non-null float64\n",
      "Row Quality             0 non-null float64\n",
      "dtypes: float64(50), int64(2), object(2)\n",
      "memory usage: 110.6+ MB\n"
     ]
    }
   ],
   "source": [
    "data.info()"
   ]
  },
  {
   "cell_type": "code",
   "execution_count": 24,
   "metadata": {},
   "outputs": [
    {
     "data": {
      "text/plain": [
       "array(['2076', '2259', '2263', '2220', '2261', '2230', '2126', '2262',\n",
       "       '2026', '2218', '2265', '2208', '2229', '2085', '2250', '2283',\n",
       "       '2305', '2285', '2300', '2093', '2025', '2041', '2303', '2082',\n",
       "       '2284', '2137', '2048', '2282', '2205', '2224', '2021', '2290',\n",
       "       '2010', '2135', '2251', '2162', '2227', '2295', '2190', '2029',\n",
       "       '2204', '2031', '2039', '2087', '2074', '2330', '2291', '2119',\n",
       "       '2099', '2066', '2100', '2081', '2320', '2134', '2280', '2289',\n",
       "       '2294', '2159', '2008', '2209', '2203', '2278', '2079', '2228',\n",
       "       '2044', '2046', '2111', '2077', '2018', '2325', '2324', '2196',\n",
       "       '2231', '2120', '2260', '2292', '2293', '2086', '2207', '2096',\n",
       "       '2047', '2233', '2034', '2092', '2264', '2037', '2296', '2286',\n",
       "       '2200', '2219', '2315', '2211', '2154', '2088', '2198', '2326',\n",
       "       '2084', '2321', '2281', '2216'], dtype=object)"
      ]
     },
     "execution_count": 24,
     "metadata": {},
     "output_type": "execute_result"
    }
   ],
   "source": [
    "data = data.rename({'Postcode': 'postal_code'}, axis=1)\n",
    "data['postal_code'] = data['postal_code'].astype('str')\n",
    "postal_codes = data['postal_code'].unique()\n",
    "postal_codes"
   ]
  },
  {
   "cell_type": "code",
   "execution_count": 25,
   "metadata": {},
   "outputs": [],
   "source": [
    "nomi = pgeocode.Nominatim('au')\n",
    "geodata = nomi.query_postal_code(postal_codes)"
   ]
  },
  {
   "cell_type": "code",
   "execution_count": 26,
   "metadata": {},
   "outputs": [],
   "source": [
    "newdata = data.merge(geodata)"
   ]
  },
  {
   "cell_type": "code",
   "execution_count": 28,
   "metadata": {},
   "outputs": [
    {
     "data": {
      "text/plain": [
       "Index(['Customer', 'Generator Capacity', 'postal_code', 'Consumption Category',\n",
       "       'date', '0:30', '1:00', '1:30', '2:00', '2:30', '3:00', '3:30', '4:00',\n",
       "       '4:30', '5:00', '5:30', '6:00', '6:30', '7:00', '7:30', '8:00', '8:30',\n",
       "       '9:00', '9:30', '10:00', '10:30', '11:00', '11:30', '12:00', '12:30',\n",
       "       '13:00', '13:30', '14:00', '14:30', '15:00', '15:30', '16:00', '16:30',\n",
       "       '17:00', '17:30', '18:00', '18:30', '19:00', '19:30', '20:00', '20:30',\n",
       "       '21:00', '21:30', '22:00', '22:30', '23:00', '23:30', '0:00',\n",
       "       'Row Quality', 'country code', 'place_name', 'state_name', 'state_code',\n",
       "       'county_name', 'county_code', 'community_name', 'community_code',\n",
       "       'latitude', 'longitude', 'accuracy'],\n",
       "      dtype='object')"
      ]
     },
     "execution_count": 28,
     "metadata": {},
     "output_type": "execute_result"
    }
   ],
   "source": [
    "newdata.columns"
   ]
  }
 ],
 "metadata": {
  "kernelspec": {
   "display_name": "Python 3",
   "language": "python",
   "name": "python3"
  },
  "language_info": {
   "codemirror_mode": {
    "name": "ipython",
    "version": 3
   },
   "file_extension": ".py",
   "mimetype": "text/x-python",
   "name": "python",
   "nbconvert_exporter": "python",
   "pygments_lexer": "ipython3",
   "version": "3.7.3"
  }
 },
 "nbformat": 4,
 "nbformat_minor": 2
}
